{
  "nbformat": 4,
  "nbformat_minor": 0,
  "metadata": {
    "colab": {
      "name": "fab_many_well.ipynb",
      "provenance": [],
      "collapsed_sections": [],
      "include_colab_link": true
    },
    "kernelspec": {
      "name": "python3",
      "display_name": "Python 3"
    },
    "language_info": {
      "name": "python"
    },
    "accelerator": "GPU",
    "gpuClass": "standard"
  },
  "cells": [
    {
      "cell_type": "markdown",
      "metadata": {
        "id": "view-in-github",
        "colab_type": "text"
      },
      "source": [
        "<a href=\"https://colab.research.google.com/github/lollcat/fab-torch/blob/dev-loll/experiments/many_well/fab_many_well.ipynb\" target=\"_parent\"><img src=\"https://colab.research.google.com/assets/colab-badge.svg\" alt=\"Open In Colab\"/></a>"
      ]
    },
    {
      "cell_type": "markdown",
      "source": [
        "# Flow Annealed Importance Sampling Bootstrap: Many Well Problem\n",
        "In this notebook we will compare training a flow using FAB with a prioritised buffer, to training a flow by reverse KL divergence minimisation. We will train the models relatively briefly to get indications of how well each method works in a relatively small amount of time, however better results may be obtained by simply increasing the training time. In this notebook we train a flow on a 6 dimensional version of the Many Well problem. The problem difficulty may be increased by increasing the dimension of the Many Well problem."
      ],
      "metadata": {
        "id": "XpTfsy3InUhf"
      }
    },
    {
      "cell_type": "markdown",
      "source": [
        "# Setup Repo"
      ],
      "metadata": {
        "id": "pIuF7gAmLbpI"
      }
    },
    {
      "cell_type": "code",
      "execution_count": null,
      "metadata": {
        "id": "U21CxXjHRcsF"
      },
      "outputs": [],
      "source": [
        "!git clone https://github.com/lollcat/fab-torch"
      ]
    },
    {
      "cell_type": "code",
      "source": [
        "import os\n",
        "os.chdir(\"fab-torch\")"
      ],
      "metadata": {
        "id": "tmsNqL0lRwGa"
      },
      "execution_count": null,
      "outputs": []
    },
    {
      "cell_type": "code",
      "source": [
        "!pip install --upgrade ."
      ],
      "metadata": {
        "id": "d7eC5CsoRs_d"
      },
      "execution_count": null,
      "outputs": []
    },
    {
      "cell_type": "markdown",
      "source": [
        "# Let's go!"
      ],
      "metadata": {
        "id": "1Ajs-kTgLeWU"
      }
    },
    {
      "cell_type": "markdown",
      "source": [
        "## Imports"
      ],
      "metadata": {
        "id": "TeFLDH5mLhv9"
      }
    },
    {
      "cell_type": "code",
      "source": [
        "import normflows as nf\n",
        "import matplotlib.pyplot as plt\n",
        "import torch\n",
        "import numpy as np\n",
        "\n",
        "from fab import FABModel, HamiltonianMonteCarlo, Metropolis\n",
        "from fab.utils.logging import ListLogger\n",
        "from fab.utils.plotting import plot_history, plot_contours, plot_marginal_pair\n",
        "from fab.target_distributions.many_well import ManyWellEnergy\n",
        "from fab.utils.prioritised_replay_buffer import PrioritisedReplayBuffer\n",
        "from fab import Trainer, PrioritisedBufferTrainer\n",
        "from fab.utils.plotting import plot_contours, plot_marginal_pair\n",
        "\n",
        "\n",
        "from experiments.make_flow import make_wrapped_normflow_realnvp"
      ],
      "metadata": {
        "id": "Lzkmrn81LajP"
      },
      "execution_count": null,
      "outputs": []
    },
    {
      "cell_type": "markdown",
      "source": [
        "## Setup Target distribution"
      ],
      "metadata": {
        "id": "OHtMPbFlMKvd"
      }
    },
    {
      "cell_type": "code",
      "source": [
        "dim = 6 # Can increase in to higher values that are multiples of two.\n",
        "seed = 0"
      ],
      "metadata": {
        "id": "kkr2CqqDMRBn"
      },
      "execution_count": null,
      "outputs": []
    },
    {
      "cell_type": "code",
      "source": [
        "torch.manual_seed(0)  # seed of 0 for GMM problem\n",
        "target = ManyWellEnergy(dim, a=-0.5, b=-6, use_gpu=True)"
      ],
      "metadata": {
        "id": "qM9PUDE3MMoA"
      },
      "execution_count": null,
      "outputs": []
    },
    {
      "cell_type": "code",
      "source": [
        "# plot the contours for the marginal distribution of the first 2D of target (i.e. the Double Well Problem). \n",
        "target.to(\"cpu\")\n",
        "fig, ax = plt.subplots()\n",
        "plotting_bounds = (-3, 3)\n",
        "plot_contours(target.log_prob_2D, bounds=plotting_bounds, n_contour_levels=40, ax=ax, grid_width_n_points=100)\n",
        "target.to(\"cuda\")"
      ],
      "metadata": {
        "id": "oxMmszREPEY1"
      },
      "execution_count": null,
      "outputs": []
    },
    {
      "cell_type": "markdown",
      "source": [
        "## Create FAB model"
      ],
      "metadata": {
        "id": "bJmoBOJ8REZO"
      }
    },
    {
      "cell_type": "code",
      "source": [
        "# hyper-parameters\n",
        "\n",
        "# Flow\n",
        "n_flow_layers = 10\n",
        "layer_nodes_per_dim = 40\n",
        "lr = 2e-4\n",
        "max_gradient_norm = 100.0\n",
        "batch_size = 128\n",
        "n_iterations = 500\n",
        "n_eval = 20\n",
        "eval_batch_size = batch_size * 10\n",
        "n_plots = 20 # number of plots shows throughout tranining\n",
        "use_64_bit = True\n",
        "\n",
        "# AIS\n",
        "transition_operator_type = \"hmc\"\n",
        "n_intermediate_distributions = 1\n",
        "\n",
        "# buffer config\n",
        "n_batches_buffer_sampling = 4\n",
        "maximum_buffer_length = batch_size* 100\n",
        "min_buffer_length = batch_size * 10"
      ],
      "metadata": {
        "id": "xp58k3FMQ3Qf"
      },
      "execution_count": null,
      "outputs": []
    },
    {
      "cell_type": "code",
      "source": [
        "if use_64_bit:\n",
        "    torch.set_default_dtype(torch.float64)\n",
        "    target = target.double()\n",
        "    print(f\"running with 64 bit\")"
      ],
      "metadata": {
        "id": "3P5c29Rayd2B"
      },
      "execution_count": null,
      "outputs": []
    },
    {
      "cell_type": "markdown",
      "source": [
        "### Setup flow"
      ],
      "metadata": {
        "id": "MRJx0FhTRKIF"
      }
    },
    {
      "cell_type": "code",
      "source": [
        "flow = make_wrapped_normflow_realnvp(dim, n_flow_layers=n_flow_layers, \n",
        "                                 layer_nodes_per_dim=layer_nodes_per_dim,\n",
        "                                act_norm = False)"
      ],
      "metadata": {
        "id": "ptJrkMn5Qz2F"
      },
      "execution_count": null,
      "outputs": []
    },
    {
      "cell_type": "markdown",
      "source": [
        "### Setup Transition operator"
      ],
      "metadata": {
        "id": "bNhmNi0zRMT2"
      }
    },
    {
      "cell_type": "code",
      "source": [
        "if transition_operator_type == \"hmc\":\n",
        "    # very lightweight HMC.\n",
        "    transition_operator = HamiltonianMonteCarlo(\n",
        "        n_ais_intermediate_distributions=n_intermediate_distributions,\n",
        "        n_outer=1,\n",
        "        epsilon=1.0, L=5, \n",
        "        dim=dim,\n",
        "        step_tuning_method=\"p_accept\")\n",
        "elif transition_operator_type == \"metropolis\":\n",
        "    transition_operator = Metropolis(n_transitions=n_intermediate_distributions,\n",
        "                                     n_updates=1, \n",
        "                                     adjust_step_size=True)\n",
        "else:\n",
        "    raise NotImplementedError"
      ],
      "metadata": {
        "id": "aAfUX8rgQ9XG"
      },
      "execution_count": null,
      "outputs": []
    },
    {
      "cell_type": "markdown",
      "source": [
        "### Setup FAB model with prioritised replay buffer"
      ],
      "metadata": {
        "id": "oIQthDLyLkus"
      }
    },
    {
      "cell_type": "code",
      "source": [
        "# use GPU if available\n",
        "if torch.cuda.is_available():\n",
        "  flow.cuda()\n",
        "  transition_operator.cuda()\n",
        "  print(f\"Running with GPU\")"
      ],
      "metadata": {
        "id": "wFrJvytJcAm2"
      },
      "execution_count": null,
      "outputs": []
    },
    {
      "cell_type": "code",
      "source": [
        "fab_model = FABModel(flow=flow,\n",
        "                     target_distribution=target,\n",
        "                     n_intermediate_distributions=n_intermediate_distributions,\n",
        "                     transition_operator=transition_operator)\n",
        "optimizer = torch.optim.Adam(flow.parameters(), lr=lr)\n",
        "logger = ListLogger(save=False) # save training history"
      ],
      "metadata": {
        "id": "SgXAZZpCSAiK"
      },
      "execution_count": null,
      "outputs": []
    },
    {
      "cell_type": "code",
      "source": [
        "# Setup buffer.\n",
        "def initial_sampler():\n",
        "  # fill replay buffer using initialised model and AIS.\n",
        "    x, log_w = fab_model.annealed_importance_sampler.sample_and_log_weights(\n",
        "            batch_size, logging=False)\n",
        "    log_q_x = fab_model.flow.log_prob(x).detach()\n",
        "    return x, log_w, log_q_x\n",
        "buffer = PrioritisedReplayBuffer(dim=dim, max_length=maximum_buffer_length,\n",
        "                      min_sample_length=min_buffer_length,\n",
        "                      initial_sampler=initial_sampler)"
      ],
      "metadata": {
        "id": "5onsUCTJbE-l"
      },
      "execution_count": null,
      "outputs": []
    },
    {
      "cell_type": "code",
      "source": [
        "def plot(fab_model, n_samples = batch_size, dim=dim):\n",
        "    n_rows = dim // 2\n",
        "    fig, axs = plt.subplots(dim // 2, 2,  sharex=True, sharey=True, figsize=(10, n_rows*3))\n",
        "\n",
        "    \n",
        "    samples_flow = fab_model.flow.sample((n_samples,))\n",
        "    samples_ais = fab_model.annealed_importance_sampler.sample_and_log_weights(n_samples,\n",
        "                                                                               logging=False)[0]\n",
        "\n",
        "    for i in range(n_rows):\n",
        "      plot_contours(target.log_prob_2D, bounds=plotting_bounds, ax=axs[i, 0], n_contour_levels=40)\n",
        "      plot_contours(target.log_prob_2D, bounds=plotting_bounds, ax=axs[i, 1], n_contour_levels=40)\n",
        "\n",
        "      # plot flow samples\n",
        "      plot_marginal_pair(samples_flow, ax=axs[i, 0], bounds=plotting_bounds, marginal_dims=(i*2,i*2+1))\n",
        "      axs[i, 0].set_xlabel(f\"dim {i*2}\")\n",
        "      axs[i, 0].set_ylabel(f\"dim {i*2 + 1}\")\n",
        "      \n",
        "\n",
        "\n",
        "      # plot ais samples\n",
        "      plot_marginal_pair(samples_ais, ax=axs[i, 1], bounds=plotting_bounds, marginal_dims=(i*2,i*2+1))\n",
        "      axs[i, 1].set_xlabel(f\"dim {i*2}\")\n",
        "      axs[i, 1].set_ylabel(f\"dim {i*2+1}\")\n",
        "      plt.tight_layout()\n",
        "    axs[0, 1].set_title(\"ais samples\")  \n",
        "    axs[0, 0].set_title(\"flow samples\")\n",
        "    plt.show()\n",
        "    return [fig]"
      ],
      "metadata": {
        "id": "B2QJeaj5Ll4o"
      },
      "execution_count": null,
      "outputs": []
    },
    {
      "cell_type": "code",
      "source": [
        "plot(fab_model) # Visualise model during initialisation."
      ],
      "metadata": {
        "id": "ecjfGOS2bWEq"
      },
      "execution_count": null,
      "outputs": []
    },
    {
      "cell_type": "code",
      "source": [
        "# Setup trainer.\n",
        "trainer = PrioritisedBufferTrainer(model=fab_model, optimizer=optimizer, \n",
        "                                   logger=logger, plot=plot,\n",
        "                        buffer=buffer, n_batches_buffer_sampling=n_batches_buffer_sampling,\n",
        "                     max_gradient_norm=max_gradient_norm)"
      ],
      "metadata": {
        "id": "zfjeD4Udb275"
      },
      "execution_count": null,
      "outputs": []
    },
    {
      "cell_type": "markdown",
      "source": [
        "## Train model"
      ],
      "metadata": {
        "id": "ailsWaOwdF5V"
      }
    },
    {
      "cell_type": "code",
      "source": [
        "# Now run!\n",
        "trainer.run(n_iterations=n_iterations, batch_size=batch_size, n_plot=n_plots, \\\n",
        "            n_eval=n_eval, eval_batch_size=eval_batch_size, save=False) # note that the progress bar during training prints ESS w.r.t p^2/q. "
      ],
      "metadata": {
        "id": "5Fyi-oe8cbXz"
      },
      "execution_count": null,
      "outputs": []
    },
    {
      "cell_type": "markdown",
      "source": [
        "In the below plot of samples from the flow vs the target contours, and with the test set log prob throughout training, we see that the flow covers the target distribution quite well. It may be trained further to obtain even better results. "
      ],
      "metadata": {
        "id": "puWE84Itm77J"
      }
    },
    {
      "cell_type": "code",
      "source": [
        "# \"_eval\" means metrics calculated with eval_batch_size, _p_target means metrics calculated with AIS targetting p, p2overq_target means calculated with AIS targeting p^2/q. \n",
        "# For example 'eval_ess_flow_p2overq_target' is the effective sample size of the flow w.r.t the target distribution p^2/q when sampling from AIS with p^2/q as the target.\n",
        "logger.history.keys() "
      ],
      "metadata": {
        "id": "gGsDYvqY23TK"
      },
      "execution_count": null,
      "outputs": []
    },
    {
      "cell_type": "code",
      "source": [
        "# Test set probability using samples from the target distribution.\n",
        "eval_iters = np.linspace(0, n_iterations, n_eval)\n",
        "plt.plot(eval_iters, logger.history['test_set_exact_mean_log_prob_p_target'])\n",
        "plt.ylabel(\"mean test set log prob\")\n",
        "plt.xlabel(\"training iteration\")"
      ],
      "metadata": {
        "id": "lce_nsLdkKSB"
      },
      "execution_count": null,
      "outputs": []
    },
    {
      "cell_type": "code",
      "source": [
        "# Effective sample size\n",
        "eval_iters = np.linspace(0, n_iterations, n_eval)\n",
        "plt.plot(eval_iters, logger.history['eval_ess_flow_p_target'])\n",
        "plt.ylabel(\"Effective Sample Size\")\n",
        "plt.xlabel(\"training iteration\")"
      ],
      "metadata": {
        "id": "w31pgTdNYCOh"
      },
      "execution_count": null,
      "outputs": []
    },
    {
      "cell_type": "code",
      "source": [
        "# Probability of test set containing a point on each mode\n",
        "eval_iters = np.linspace(0, n_iterations, n_eval)\n",
        "plt.plot(eval_iters, logger.history['test_set_modes_mean_log_prob_p_target'])\n",
        "plt.ylabel(\"Average log prob of modes test set\")\n",
        "plt.xlabel(\"training iteration\")"
      ],
      "metadata": {
        "id": "lxe2AYrLYSaj"
      },
      "execution_count": null,
      "outputs": []
    },
    {
      "cell_type": "code",
      "source": [
        "fig, axs = plt.subplots(1, 1, figsize=(5, 5))\n",
        "target.to(\"cpu\")\n",
        "plot_contours(target.log_prob_2D, bounds=plotting_bounds, ax=axs, n_contour_levels=40, grid_width_n_points=200)\n",
        "target.to(\"cuda\")\n",
        "\n",
        "n_samples = 1000\n",
        "samples_flow = fab_model.flow.sample((n_samples,)).detach()\n",
        "plot_marginal_pair(samples_flow, ax=axs, bounds=plotting_bounds)"
      ],
      "metadata": {
        "id": "BLiWtIEw3VqK"
      },
      "execution_count": null,
      "outputs": []
    },
    {
      "cell_type": "code",
      "source": [],
      "metadata": {
        "id": "zbOpmcfYYB7k"
      },
      "execution_count": null,
      "outputs": []
    },
    {
      "cell_type": "markdown",
      "source": [
        "# Training a flow by reverse KL divergence minimisation."
      ],
      "metadata": {
        "id": "8ajP0mo4hjjr"
      }
    },
    {
      "cell_type": "code",
      "source": [
        "loss_type = \"flow_reverse_kl\" # can set to \"target_foward_kl\" for training by maximum likelihood of samples from the Many Well target."
      ],
      "metadata": {
        "id": "aXBZFZT11dC_"
      },
      "execution_count": null,
      "outputs": []
    },
    {
      "cell_type": "code",
      "source": [
        "# Create flow using the same architecture.\n",
        "flow = make_wrapped_normflow_realnvp(dim, n_flow_layers=n_flow_layers, \n",
        "                                 layer_nodes_per_dim=layer_nodes_per_dim,\n",
        "                                act_norm = False)\n",
        "optimizer = torch.optim.Adam(flow.parameters(), lr=lr)\n",
        "logger = ListLogger(save=False) # save training history"
      ],
      "metadata": {
        "id": "LL_MnSZrhnT0"
      },
      "execution_count": null,
      "outputs": []
    },
    {
      "cell_type": "code",
      "source": [
        "# use GPU if available\n",
        "if torch.cuda.is_available():\n",
        "  flow.cuda()\n",
        "  transition_operator.cuda()\n",
        "  print(f\"Running with GPU\")\n",
        "target.to(\"cuda\")"
      ],
      "metadata": {
        "id": "EtOPcNhqrajL"
      },
      "execution_count": null,
      "outputs": []
    },
    {
      "cell_type": "code",
      "source": [
        "n_iterations = int(4*(n_iterations)) # Training the flow by KL minimisation is cheaper per iteration, so we run it for more iterations."
      ],
      "metadata": {
        "id": "8_OlZmP9ugI1"
      },
      "execution_count": null,
      "outputs": []
    },
    {
      "cell_type": "code",
      "source": [
        "reverse_kld_model = FABModel(flow=flow,\n",
        "                     target_distribution=target,\n",
        "                     n_intermediate_distributions=n_intermediate_distributions,\n",
        "                     transition_operator=transition_operator,\n",
        "                     loss_type=loss_type)"
      ],
      "metadata": {
        "id": "7nZPakrl1g2-"
      },
      "execution_count": null,
      "outputs": []
    },
    {
      "cell_type": "code",
      "source": [
        "def plot_flow_reverse_kld(fab_model, n_samples = batch_size, dim=dim):\n",
        "    n_rows = dim // 2\n",
        "    fig, axs = plt.subplots(dim // 2, 1,  sharex=True, sharey=True, figsize=(5, n_rows*3))\n",
        "\n",
        "    \n",
        "    samples_flow = fab_model.flow.sample((n_samples,))\n",
        "\n",
        "    for i in range(n_rows):\n",
        "      plot_contours(target.log_prob_2D, bounds=plotting_bounds, ax=axs[i], n_contour_levels=40)\n",
        "\n",
        "      # plot flow samples\n",
        "      plot_marginal_pair(samples_flow, ax=axs[i], bounds=plotting_bounds, marginal_dims=(i*2,i*2+1))\n",
        "      axs[i].set_xlabel(f\"dim {i*2}\")\n",
        "      axs[i].set_ylabel(f\"dim {i*2 + 1}\")\n",
        "      plt.tight_layout()\n",
        "    plt.show()\n",
        "    return [fig]"
      ],
      "metadata": {
        "id": "sDQ29z5t2zSa"
      },
      "execution_count": null,
      "outputs": []
    },
    {
      "cell_type": "code",
      "source": [
        "trainer = Trainer(model=reverse_kld_model, optimizer=optimizer, logger=logger, plot=plot_flow_reverse_kld, max_gradient_norm=max_gradient_norm)"
      ],
      "metadata": {
        "id": "QYAWr5ichwLS"
      },
      "execution_count": null,
      "outputs": []
    },
    {
      "cell_type": "code",
      "source": [
        "# Now run!\n",
        "trainer.run(n_iterations=n_iterations, batch_size=batch_size, n_plot=n_plots, \\\n",
        "            n_eval=n_eval, eval_batch_size=eval_batch_size, save=False)"
      ],
      "metadata": {
        "id": "23JzOSosjUn3"
      },
      "execution_count": null,
      "outputs": []
    },
    {
      "cell_type": "markdown",
      "source": [
        "We evaluate the flow on samples from the target distribution, we see that because the flow trained by kl divergence minimisation is missing modes, the flow places NaN log prob on samples from the target. "
      ],
      "metadata": {
        "id": "GAUDI5lNweY_"
      }
    },
    {
      "cell_type": "code",
      "source": [
        "logger.history[\"test_set_exact_mean_log_prob\"]"
      ],
      "metadata": {
        "id": "kTDrcaa5wK9g"
      },
      "execution_count": null,
      "outputs": []
    },
    {
      "cell_type": "code",
      "source": [
        "eval_iters = np.linspace(0, n_iterations, n_eval)\n",
        "plt.plot(eval_iters, logger.history[\"test_set_exact_mean_log_prob\"])\n",
        "plt.ylabel(\"mean test set log prob\")\n",
        "plt.xlabel(\"eval iteration\")\n",
        "plt.yscale(\"symlog\")"
      ],
      "metadata": {
        "id": "cyLoMV8VvOSE"
      },
      "execution_count": null,
      "outputs": []
    },
    {
      "cell_type": "code",
      "source": [],
      "metadata": {
        "id": "8ow35UmcU4_X"
      },
      "execution_count": null,
      "outputs": []
    }
  ]
}