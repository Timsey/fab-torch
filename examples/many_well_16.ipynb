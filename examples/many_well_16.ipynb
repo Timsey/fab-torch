{
 "nbformat": 4,
 "nbformat_minor": 0,
 "metadata": {
  "colab": {
   "name": "ManyWell16.ipynb",
   "provenance": [],
   "collapsed_sections": []
  },
  "kernelspec": {
   "name": "python3",
   "display_name": "Python 3"
  },
  "language_info": {
   "name": "python"
  },
  "accelerator": "GPU"
 },
 "cells": [
  {
   "cell_type": "markdown",
   "source": [
    "# Setup Repository (if running in Colab, otherwise skip)\n",
    "This notebook requires quite a bit of compute and time to run. We recommend running it with\n",
    "Colab using GPU."
   ],
   "metadata": {
    "id": "v14BKJpQ5a_f"
   }
  },
  {
   "cell_type": "code",
   "execution_count": null,
   "metadata": {
    "colab": {
     "base_uri": "https://localhost:8080/"
    },
    "id": "WSoTgjl35KCp",
    "outputId": "b18ed3f4-26cd-489a-a2a4-fe0128d236dc"
   },
   "outputs": [],
   "source": [
    "!git clone https://github.com/lollcat/FAB-TORCH/"
   ]
  },
  {
   "cell_type": "code",
   "source": [
    "import os\n",
    "os.chdir(\"FAB-TORCH\")\n"
   ],
   "metadata": {
    "id": "0r9j75TC5v9-"
   },
   "execution_count": null,
   "outputs": []
  },
  {
   "cell_type": "code",
   "source": [
    "!pip install --upgrade . # install FAB library"
   ],
   "metadata": {
    "id": "uTBUlpWL5h4Z"
   },
   "execution_count": null,
   "outputs": []
  },
  {
   "cell_type": "markdown",
   "source": [
    "# Non-Colab\n",
    "If running locally (not in colab), then simply run the below cell to get setup."
   ],
   "metadata": {
    "collapsed": false
   }
  },
  {
   "cell_type": "code",
   "execution_count": null,
   "outputs": [],
   "source": [
    "import sys\n",
    "sys.path.insert(0, \"../\")"
   ],
   "metadata": {
    "collapsed": false,
    "pycharm": {
     "name": "#%%\n"
    }
   }
  },
  {
   "cell_type": "markdown",
   "source": [
    "# Let's go"
   ],
   "metadata": {
    "id": "mHAAsid96iMx"
   }
  },
  {
   "cell_type": "markdown",
   "source": [
    "## Setup imports"
   ],
   "metadata": {
    "id": "pZlJPNRD6nnx"
   }
  },
  {
   "cell_type": "code",
   "source": [
    "import normflow as nf\n",
    "import matplotlib.pyplot as plt\n",
    "import torch\n",
    "\n",
    "from fab import FABModel, HamiltoneanMonteCarlo, Trainer, Metropolis\n",
    "from fab.utils.logging import ListLogger\n",
    "from fab.utils.plotting import plot_history, plot_contours, plot_marginal_pair\n",
    "from examples.make_flow import make_wrapped_normflowdist"
   ],
   "metadata": {
    "id": "qNnmYYq45rBj"
   },
   "execution_count": null,
   "outputs": []
  },
  {
   "cell_type": "markdown",
   "source": [
    "## Configure Training"
   ],
   "metadata": {
    "id": "na-yaFkn633n"
   }
  },
  {
   "cell_type": "code",
   "source": [
    "dim: int = 16\n",
    "layer_nodes_per_dim = 10\n",
    "n_intermediate_distributions: int = 2\n",
    "batch_size: int = 1024\n",
    "n_iterations: int = int(4e4)\n",
    "n_eval = 100\n",
    "eval_batch_size = batch_size * 10\n",
    "n_plots: int = 20 # number of plots shows throughout tranining\n",
    "lr: float = 5e-4\n",
    "transition_operator_type: str = \"hmc\"  # \"metropolis\" or \"hmc\"\n",
    "seed: int = 0\n",
    "n_flow_layers: int = 10\n",
    "# torch.set_default_dtype(torch.float64) # works with 32 bit\n",
    "torch.manual_seed(seed)"
   ],
   "metadata": {
    "colab": {
     "base_uri": "https://localhost:8080/"
    },
    "id": "1Fb0cbsj6pO9",
    "outputId": "6816a8fc-d927-4140-91fd-aaac51903959"
   },
   "execution_count": null,
   "outputs": []
  },
  {
   "cell_type": "markdown",
   "source": [
    "## Setup ManyWell target distribution"
   ],
   "metadata": {
    "id": "V_G-CDRu66zf"
   }
  },
  {
   "cell_type": "code",
   "source": [
    "from fab.target_distributions.many_well import ManyWellEnergy\n",
    "assert dim % 2 == 0\n",
    "target = ManyWellEnergy(dim, a=-0.5, b=-6)\n",
    "plotting_bounds = (-3, 3)"
   ],
   "metadata": {
    "id": "IysmJpO96sz2",
    "colab": {
     "base_uri": "https://localhost:8080/"
    },
    "outputId": "91f47972-772d-4588-f485-5a8d9f0fd024"
   },
   "execution_count": null,
   "outputs": []
  },
  {
   "cell_type": "code",
   "source": [
    "# plot target of 2 dimensions\n",
    "plot_contours(target.log_prob_2D, bounds=plotting_bounds)"
   ],
   "metadata": {
    "colab": {
     "base_uri": "https://localhost:8080/",
     "height": 269
    },
    "id": "5aS8wcLX69YM",
    "outputId": "339b9444-36ef-4604-83ff-106d28d21a0f"
   },
   "execution_count": null,
   "outputs": []
  },
  {
   "cell_type": "code",
   "source": [
    "flow = make_wrapped_normflowdist(dim, n_flow_layers=n_flow_layers, layer_nodes_per_dim=layer_nodes_per_dim)"
   ],
   "metadata": {
    "id": "w3SNfiWE7BMg"
   },
   "execution_count": null,
   "outputs": []
  },
  {
   "cell_type": "code",
   "source": [
    "flow.sample((3,)).shape # check sample shape is of correct dim"
   ],
   "metadata": {
    "colab": {
     "base_uri": "https://localhost:8080/"
    },
    "id": "32FPPDmG7xb9",
    "outputId": "60d6f6c2-a6f7-4396-8c00-13b8a6f4cdda"
   },
   "execution_count": null,
   "outputs": []
  },
  {
   "cell_type": "markdown",
   "source": [
    "## Setup transition operator"
   ],
   "metadata": {
    "id": "oq29jHrI71SL"
   }
  },
  {
   "cell_type": "code",
   "source": [
    "if transition_operator_type == \"hmc\":\n",
    "    # very lightweight HMC.\n",
    "    transition_operator = HamiltoneanMonteCarlo(\n",
    "        n_ais_intermediate_distributions=n_intermediate_distributions,\n",
    "        n_outer=1,\n",
    "        epsilon=1.0, L=5, dim=dim,\n",
    "        step_tuning_method=\"p_accept\")\n",
    "elif transition_operator_type == \"metropolis\":\n",
    "    transition_operator = Metropolis(n_transitions=n_intermediate_distributions,\n",
    "                                     n_updates=5, adjust_step_size=True)\n",
    "else:\n",
    "    raise NotImplementedError"
   ],
   "metadata": {
    "id": "J-IKqaYm7y8o"
   },
   "execution_count": null,
   "outputs": []
  },
  {
   "cell_type": "markdown",
   "source": [
    "## Define model, trainer and plotter"
   ],
   "metadata": {
    "id": "r-cSZLtB76Ma"
   }
  },
  {
   "cell_type": "code",
   "source": [
    "# use GPU if available\n",
    "if torch.cuda.is_available():\n",
    "  flow.cuda()\n",
    "  transition_operator.cuda()\n",
    "  print(\"utilising GPU\")\n",
    "flow.sample((1,)).device"
   ],
   "metadata": {
    "colab": {
     "base_uri": "https://localhost:8080/"
    },
    "id": "Kay2iYUF_wXw",
    "outputId": "c0dfb8c7-345b-4365-a3d9-0c3eb91c92fb"
   },
   "execution_count": null,
   "outputs": []
  },
  {
   "cell_type": "code",
   "source": [
    "fab_model = FABModel(flow=flow,\n",
    "                     target_distribution=target,\n",
    "                     n_intermediate_distributions=n_intermediate_distributions,\n",
    "                     transition_operator=transition_operator)\n",
    "optimizer = torch.optim.AdamW(flow.parameters(), lr=lr)\n",
    "# scheduler = torch.optim.lr_scheduler.ExponentialLR(optimizer, gamma=0.995)\n",
    "scheduler = None\n",
    "logger = ListLogger(save=False) # save training history"
   ],
   "metadata": {
    "id": "YWQckxpS72NO",
    "colab": {
     "base_uri": "https://localhost:8080/"
    },
    "outputId": "d4671cdf-6c5b-4c68-dd62-9e4b857e9d8d"
   },
   "execution_count": null,
   "outputs": []
  },
  {
   "cell_type": "code",
   "source": [
    "def plot(fab_model, n_samples = batch_size, dim=dim):\n",
    "    n_rows = dim // 2\n",
    "    fig, axs = plt.subplots(dim // 2, 2,  sharex=True, sharey=True, figsize=(10, n_rows*3))\n",
    "\n",
    "    \n",
    "    samples_flow = fab_model.flow.sample((n_samples,))\n",
    "    samples_ais = fab_model.annealed_importance_sampler.sample_and_log_weights(n_samples,\n",
    "                                                                               logging=False)[0]\n",
    "\n",
    "    for i in range(n_rows):\n",
    "      plot_contours(target.log_prob_2D, bounds=plotting_bounds, ax=axs[i, 0])\n",
    "      plot_contours(target.log_prob_2D, bounds=plotting_bounds, ax=axs[i, 1])\n",
    "\n",
    "      # plot flow samples\n",
    "      plot_marginal_pair(samples_flow, ax=axs[i, 0], bounds=plotting_bounds, marginal_dims=(i*2,i*2+1))\n",
    "      axs[i, 0].set_xlabel(f\"dim {i*2}\")\n",
    "      axs[i, 0].set_ylabel(f\"dim {i*2 + 1}\")\n",
    "      \n",
    "\n",
    "\n",
    "      # plot ais samples\n",
    "      plot_marginal_pair(samples_ais, ax=axs[i, 1], bounds=plotting_bounds, marginal_dims=(i*2,i*2+1))\n",
    "      axs[i, 1].set_xlabel(f\"dim {i*2}\")\n",
    "      axs[i, 1].set_ylabel(f\"dim {i*2+1}\")\n",
    "      plt.tight_layout()\n",
    "    axs[0, 1].set_title(\"ais samples\")  \n",
    "    axs[0, 0].set_title(\"flow samples\")\n",
    "    plt.show()"
   ],
   "metadata": {
    "id": "HAY0XtI573Bk"
   },
   "execution_count": null,
   "outputs": []
  },
  {
   "cell_type": "code",
   "source": [
    "# Create trainer\n",
    "trainer = Trainer(model=fab_model, optimizer=optimizer, logger=logger, plot=plot,\n",
    "                  optim_schedular=scheduler)"
   ],
   "metadata": {
    "id": "rpLQFVsG73-T"
   },
   "execution_count": null,
   "outputs": []
  },
  {
   "cell_type": "markdown",
   "source": [
    "# Run with visualisation"
   ],
   "metadata": {
    "id": "_UvQeJDY79mi"
   }
  },
  {
   "cell_type": "markdown",
   "source": [
    "Note: The Nan's that pop-up during training are because the flow produces some extreme samples, that give NaN under the target. This does not harm long term training, and I will simplify the error message to make it prettier."
   ],
   "metadata": {
    "id": "3RlbNmMlpGJ-"
   }
  },
  {
   "cell_type": "code",
   "source": [
    "trainer.run(n_iterations=n_iterations, batch_size=batch_size, n_plot=n_plots,\n",
    "            n_eval=n_eval, eval_batch_size=eval_batch_size, save=False)"
   ],
   "metadata": {
    "colab": {
     "base_uri": "https://localhost:8080/",
     "height": 1000
    },
    "id": "gxvTNpnj78vL",
    "outputId": "abf5804e-f16f-442d-ca11-25c688360ce4"
   },
   "execution_count": null,
   "outputs": []
  },
  {
   "cell_type": "code",
   "source": [
    "# forgot to drop NaN IS weights in the eval step, which makes the eval_ess_ais graph not work.\n",
    "This is fixed in more recent versions of the code so should look fine wh this function is re-run.\n",
    "plot_history(logger.history)"
   ],
   "metadata": {
    "id": "f5LQxunp8Cxf",
    "colab": {
     "base_uri": "https://localhost:8080/",
     "height": 1000
    },
    "outputId": "dc7a81dc-9afd-4744-cda9-166795844df9"
   },
   "execution_count": null,
   "outputs": []
  },
  {
   "cell_type": "code",
   "source": [
    "trainer.run(n_iterations=n_iterations, batch_size=batch_size, n_plot=n_plots)"
   ],
   "metadata": {
    "colab": {
     "base_uri": "https://localhost:8080/",
     "height": 1000
    },
    "id": "kSzTaYYN4-oD",
    "outputId": "2785bb9b-5bcb-477b-f51c-a0f1144884c8"
   },
   "execution_count": null,
   "outputs": []
  },
  {
   "cell_type": "code",
   "source": [
    "plot_history(logger.history)"
   ],
   "metadata": {
    "colab": {
     "base_uri": "https://localhost:8080/",
     "height": 1000
    },
    "id": "NSvlFuNe5FDN",
    "outputId": "09924226-3dba-4470-dae8-fde40c7e6863"
   },
   "execution_count": null,
   "outputs": []
  },
  {
   "cell_type": "markdown",
   "source": [
    "## Visualise Trained Flow Model"
   ],
   "metadata": {
    "id": "rc2-lRwS8EYj"
   }
  },
  {
   "cell_type": "code",
   "source": [
    "plot(fab_model)"
   ],
   "metadata": {
    "id": "hYq0fV3e8GGk",
    "colab": {
     "base_uri": "https://localhost:8080/",
     "height": 1000
    },
    "outputId": "3eb9e206-40c7-4c7b-9899-3a1e6e0463fe"
   },
   "execution_count": null,
   "outputs": []
  },
  {
   "cell_type": "code",
   "source": [
    ""
   ],
   "metadata": {
    "id": "AIqOyO-0KSyX"
   },
   "execution_count": null,
   "outputs": []
  }
 ]
}