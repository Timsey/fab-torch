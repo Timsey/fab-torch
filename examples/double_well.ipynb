{
 "cells": [
  {
   "cell_type": "markdown",
   "id": "83af820f",
   "metadata": {},
   "source": [
    "In this notebook we train a RealNVP based flow model to approximate the Double Well Boltzmann Distribution.\n",
    "Scroll down to the bottom for visualisation of results. "
   ]
  },
  {
   "cell_type": "code",
   "execution_count": null,
   "id": "b51bb4fd",
   "metadata": {},
   "outputs": [],
   "source": [
    "import sys\n",
    "sys.path.insert(0, \"../\")"
   ]
  },
  {
   "cell_type": "code",
   "execution_count": null,
   "id": "d0a7d7a6",
   "metadata": {},
   "outputs": [],
   "source": [
    "import normflow as nf\n",
    "import matplotlib.pyplot as plt\n",
    "import torch\n",
    "\n",
    "from fab import FABModel, HamiltoneanMonteCarlo, Trainer, Metropolis\n",
    "from fab.utils.logging import ListLogger\n",
    "from fab.utils.plotting import plot_history, plot_contours, plot_marginal_pair\n",
    "from examples.make_flow import make_wrapped_normflowdist"
   ]
  },
  {
   "cell_type": "markdown",
   "id": "f48b6f41",
   "metadata": {},
   "source": [
    "## Configure Training"
   ]
  },
  {
   "cell_type": "code",
   "execution_count": null,
   "id": "3dc8cb26",
   "metadata": {},
   "outputs": [],
   "source": [
    "dim: int = 2\n",
    "n_intermediate_distributions: int = 2\n",
    "layer_nodes_per_dim = 5\n",
    "batch_size: int = 128\n",
    "n_iterations: int = 1500\n",
    "n_eval = 100\n",
    "eval_batch_size = batch_size * 10\n",
    "n_plots: int = 5 # number of plots shows throughout tranining\n",
    "lr: float = 1e-3\n",
    "transition_operator_type: str = \"hmc\"  # \"metropolis\" or \"hmc\"\n",
    "seed: int = 0\n",
    "n_flow_layers: int = 10\n",
    "torch.set_default_dtype(torch.float64)\n",
    "torch.manual_seed(seed)"
   ]
  },
  {
   "cell_type": "markdown",
   "id": "891df3fc",
   "metadata": {},
   "source": [
    "## Setup Double Well target distribution"
   ]
  },
  {
   "cell_type": "code",
   "execution_count": null,
   "id": "20ae88be",
   "metadata": {},
   "outputs": [],
   "source": [
    "from fab.target_distributions import ManyWellEnergy\n",
    "assert dim % 2 == 0\n",
    "target = ManyWellEnergy(dim, a=-0.5, b=-6)\n",
    "plotting_bounds = (-3, 3)"
   ]
  },
  {
   "cell_type": "code",
   "execution_count": null,
   "id": "e128a646",
   "metadata": {},
   "outputs": [],
   "source": [
    "# plot target\n",
    "plot_contours(target.log_prob, bounds=plotting_bounds)"
   ]
  },
  {
   "cell_type": "markdown",
   "id": "77458860",
   "metadata": {},
   "source": [
    "## Setup Flow\n",
    "By wrapping the [normflow library](https://github.com/VincentStimper/normalizing-flows). "
   ]
  },
  {
   "cell_type": "code",
   "execution_count": null,
   "id": "f65f0c17",
   "metadata": {},
   "outputs": [],
   "source": [
    "flow = make_wrapped_normflowdist(dim, n_flow_layers=n_flow_layers, layer_nodes_per_dim=layer_nodes_per_dim,\n",
    "                                act_norm = True)"
   ]
  },
  {
   "cell_type": "markdown",
   "id": "3c310d61",
   "metadata": {},
   "source": [
    "## Setup transition operator"
   ]
  },
  {
   "cell_type": "code",
   "execution_count": null,
   "id": "64f030c8",
   "metadata": {},
   "outputs": [],
   "source": [
    "if transition_operator_type == \"hmc\":\n",
    "    # very lightweight HMC.\n",
    "    transition_operator = HamiltoneanMonteCarlo(\n",
    "        n_ais_intermediate_distributions=n_intermediate_distributions,\n",
    "        n_outer=1,\n",
    "        epsilon=1.0, L=2, dim=dim,\n",
    "        step_tuning_method=\"p_accept\")\n",
    "elif transition_operator_type == \"metropolis\":\n",
    "    transition_operator = Metropolis(n_transitions=n_intermediate_distributions,\n",
    "                                     n_updates=5, adjust_step_size=True)\n",
    "else:\n",
    "    raise NotImplementedError"
   ]
  },
  {
   "cell_type": "markdown",
   "id": "ac700aa7",
   "metadata": {},
   "source": [
    "## Define model, trainer and plotter"
   ]
  },
  {
   "cell_type": "code",
   "execution_count": null,
   "id": "acb71682",
   "metadata": {},
   "outputs": [],
   "source": [
    "fab_model = FABModel(flow=flow,\n",
    "                     target_distribution=target,\n",
    "                     n_intermediate_distributions=n_intermediate_distributions,\n",
    "                     transition_operator=transition_operator)\n",
    "optimizer = torch.optim.Adam(flow.parameters(), lr=lr)\n",
    "# scheduler = torch.optim.lr_scheduler.ExponentialLR(optimizer, gamma=0.995)\n",
    "scheduler = None\n",
    "logger = ListLogger() # save training history"
   ]
  },
  {
   "cell_type": "code",
   "execution_count": null,
   "id": "6e146407",
   "metadata": {},
   "outputs": [],
   "source": [
    "def plot(fab_model, n_samples = 300):\n",
    "    fig, axs = plt.subplots(1, 2)\n",
    "\n",
    "    plot_contours(target.log_prob, bounds=plotting_bounds, ax=axs[0])\n",
    "    plot_contours(target.log_prob, bounds=plotting_bounds, ax=axs[1])\n",
    "\n",
    "    # plot flow samples\n",
    "    samples_flow = fab_model.flow.sample((n_samples,))\n",
    "    plot_marginal_pair(samples_flow, ax=axs[0], bounds=plotting_bounds)\n",
    "\n",
    "\n",
    "    # plot ais samples\n",
    "    samples_ais = fab_model.annealed_importance_sampler.sample_and_log_weights(n_samples,\n",
    "                                                                               logging=False)[0]\n",
    "    plot_marginal_pair(samples_ais, ax=axs[1], bounds=plotting_bounds)\n",
    "    axs[0].set_title(\"flow samples\")\n",
    "    axs[1].set_title(\"ais samples\")\n",
    "    plt.show()"
   ]
  },
  {
   "cell_type": "code",
   "execution_count": null,
   "id": "f55bd6b3",
   "metadata": {},
   "outputs": [],
   "source": [
    "# Create trainer\n",
    "trainer = Trainer(model=fab_model, optimizer=optimizer, logger=logger, plot=plot,\n",
    "                  optim_schedular=scheduler)"
   ]
  },
  {
   "cell_type": "markdown",
   "id": "f413976d",
   "metadata": {},
   "source": [
    "# Run with visualisation"
   ]
  },
  {
   "cell_type": "code",
   "execution_count": null,
   "id": "568dbc18",
   "metadata": {
    "scrolled": true
   },
   "outputs": [],
   "source": [
    "# the nan's that arrise during the training are typically extreme flow samples (e.g. x=[100, 100]), \n",
    "# which give Nan values for the target density. However, these do not harm long term training.\n",
    "trainer.run(n_iterations=n_iterations, batch_size=batch_size, n_plot=n_plots, \\\n",
    "            n_eval=n_eval, eval_batch_size=eval_batch_size)"
   ]
  },
  {
   "cell_type": "markdown",
   "id": "ad8decdb",
   "metadata": {},
   "source": [
    "In the below plot:\n",
    "ess = effective sample size\n",
    "\"Distance\" refers to the distance moved during each intermediate transition. "
   ]
  },
  {
   "cell_type": "code",
   "execution_count": null,
   "id": "7aafa1ec",
   "metadata": {},
   "outputs": [],
   "source": [
    "plot_history(logger.history)"
   ]
  },
  {
   "cell_type": "markdown",
   "id": "7e3868d6",
   "metadata": {},
   "source": [
    "## Visualise Trained Flow Model"
   ]
  },
  {
   "cell_type": "code",
   "execution_count": null,
   "id": "5a26f7c4",
   "metadata": {},
   "outputs": [],
   "source": [
    "# plot samples on top of contours\n",
    "n_samples = 500\n",
    "fig, axs = plt.subplots(1, 2, figsize=(10, 3))\n",
    "plot_contours(target.log_prob, bounds=plotting_bounds, ax=axs[0], n_contour_levels=10)\n",
    "plot_contours(target.log_prob, bounds=plotting_bounds, ax=axs[1], n_contour_levels=10)\n",
    "# plot flow samples\n",
    "samples_flow = fab_model.flow.sample((n_samples,))\n",
    "plot_marginal_pair(samples_flow, ax=axs[0], bounds=plotting_bounds)\n",
    "axs[0].set_title(\"flow samples vs target contours\")\n",
    "# plot ais samples\n",
    "samples_ais = fab_model.annealed_importance_sampler.sample_and_log_weights(n_samples,\n",
    "                                                                           logging=False)[0]\n",
    "plot_marginal_pair(samples_ais, ax=axs[1], bounds=plotting_bounds)\n",
    "axs[1].set_title(\"ais samples vs target contours\")\n",
    "plt.tight_layout()"
   ]
  }
 ],
 "metadata": {
  "kernelspec": {
   "display_name": "Python 3 (ipykernel)",
   "language": "python",
   "name": "python3"
  },
  "language_info": {
   "codemirror_mode": {
    "name": "ipython",
    "version": 3
   },
   "file_extension": ".py",
   "mimetype": "text/x-python",
   "name": "python",
   "nbconvert_exporter": "python",
   "pygments_lexer": "ipython3",
   "version": "3.7.11"
  }
 },
 "nbformat": 4,
 "nbformat_minor": 5
}
