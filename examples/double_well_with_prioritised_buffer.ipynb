{
 "cells": [
  {
   "cell_type": "code",
   "execution_count": null,
   "id": "b51bb4fd",
   "metadata": {
    "pycharm": {
     "is_executing": true,
     "name": "#%%\n"
    }
   },
   "outputs": [],
   "source": [
    "import sys\n",
    "sys.path.insert(0, \"../\")"
   ]
  },
  {
   "cell_type": "code",
   "execution_count": null,
   "id": "d0a7d7a6",
   "metadata": {
    "pycharm": {
     "is_executing": true,
     "name": "#%%\n"
    }
   },
   "outputs": [],
   "source": [
    "import normflow as nf\n",
    "import matplotlib.pyplot as plt\n",
    "import torch\n",
    "\n",
    "from fab import FABModel, HamiltoneanMonteCarlo, Metropolis\n",
    "from fab.train_with_prioritised_buffer import PrioritisedBufferTrainer\n",
    "from fab.utils.logging import ListLogger\n",
    "from fab.utils.plotting import plot_history, plot_contours, plot_marginal_pair\n",
    "from fab.utils.prioritised_replay_buffer import PrioritisedReplayBuffer\n",
    "from examples.make_flow import make_wrapped_normflowdist"
   ]
  },
  {
   "cell_type": "markdown",
   "id": "f48b6f41",
   "metadata": {
    "pycharm": {
     "name": "#%% md\n"
    }
   },
   "source": [
    "## Configure Training"
   ]
  },
  {
   "cell_type": "code",
   "execution_count": null,
   "id": "3dc8cb26",
   "metadata": {
    "pycharm": {
     "name": "#%%\n"
    }
   },
   "outputs": [],
   "source": [
    "loss_type = \"alpha_2_div\" # \"forward_kl\" or \"alpha_2_div\"\n",
    "\n",
    "dim: int = 2\n",
    "n_intermediate_distributions: int = 2\n",
    "layer_nodes_per_dim = 5\n",
    "batch_size: int = 32\n",
    "n_iterations: int = 500\n",
    "n_eval = 20\n",
    "eval_batch_size = batch_size * 10\n",
    "n_plots: int = 5 # number of plots shows throughout tranining\n",
    "lr: float = 2e-4\n",
    "transition_operator_type: str = \"hmc\"  # \"metropolis\" or \"hmc\"\n",
    "seed: int = 0\n",
    "n_flow_layers: int = 10\n",
    "# torch.set_default_dtype(torch.float64) # works with 32 bit precision\n",
    "torch.manual_seed(seed)\n",
    "\n",
    "log_w_clip_frac = 0.0"
   ]
  },
  {
   "cell_type": "code",
   "execution_count": null,
   "id": "90ad713e",
   "metadata": {
    "pycharm": {
     "name": "#%%\n"
    }
   },
   "outputs": [],
   "source": [
    "# buffer config\n",
    "n_batches_buffer_sampling = 5\n",
    "maximum_buffer_length = batch_size * 100\n",
    "min_buffer_length = batch_size * n_batches_buffer_sampling * 5"
   ]
  },
  {
   "cell_type": "markdown",
   "id": "891df3fc",
   "metadata": {
    "pycharm": {
     "name": "#%% md\n"
    }
   },
   "source": [
    "## Setup Double Well target distribution"
   ]
  },
  {
   "cell_type": "code",
   "execution_count": null,
   "id": "20ae88be",
   "metadata": {
    "pycharm": {
     "name": "#%%\n"
    }
   },
   "outputs": [],
   "source": [
    "from fab.target_distributions.many_well import ManyWellEnergy\n",
    "assert dim % 2 == 0\n",
    "target = ManyWellEnergy(dim, a=-0.5, b=-6)\n",
    "plotting_bounds = (-3, 3)"
   ]
  },
  {
   "cell_type": "code",
   "execution_count": null,
   "id": "e128a646",
   "metadata": {
    "pycharm": {
     "name": "#%%\n"
    }
   },
   "outputs": [],
   "source": [
    "# plot target\n",
    "plot_contours(target.log_prob, bounds=plotting_bounds)"
   ]
  },
  {
   "cell_type": "markdown",
   "id": "77458860",
   "metadata": {
    "pycharm": {
     "name": "#%% md\n"
    }
   },
   "source": [
    "## Setup Flow\n",
    "By wrapping the [normflow library](https://github.com/VincentStimper/normalizing-flows). "
   ]
  },
  {
   "cell_type": "code",
   "execution_count": null,
   "id": "f65f0c17",
   "metadata": {
    "pycharm": {
     "name": "#%%\n"
    }
   },
   "outputs": [],
   "source": [
    "flow = make_wrapped_normflowdist(dim, n_flow_layers=n_flow_layers, layer_nodes_per_dim=layer_nodes_per_dim,\n",
    "                                act_norm = True)"
   ]
  },
  {
   "cell_type": "markdown",
   "id": "3c310d61",
   "metadata": {
    "pycharm": {
     "name": "#%% md\n"
    }
   },
   "source": [
    "## Setup transition operator"
   ]
  },
  {
   "cell_type": "code",
   "execution_count": null,
   "id": "64f030c8",
   "metadata": {
    "pycharm": {
     "name": "#%%\n"
    }
   },
   "outputs": [],
   "source": [
    "if transition_operator_type == \"hmc\":\n",
    "    # very lightweight HMC.\n",
    "    transition_operator = HamiltoneanMonteCarlo(\n",
    "        n_ais_intermediate_distributions=n_intermediate_distributions,\n",
    "        n_outer=1,\n",
    "        epsilon=1.0, L=2, dim=dim,\n",
    "        step_tuning_method=\"p_accept\")\n",
    "elif transition_operator_type == \"metropolis\":\n",
    "    transition_operator = Metropolis(n_transitions=n_intermediate_distributions,\n",
    "                                     n_updates=5, adjust_step_size=True)\n",
    "else:\n",
    "    raise NotImplementedError"
   ]
  },
  {
   "cell_type": "markdown",
   "id": "ac700aa7",
   "metadata": {
    "pycharm": {
     "name": "#%% md\n"
    }
   },
   "source": [
    "## Define model, trainer and plotter"
   ]
  },
  {
   "cell_type": "code",
   "execution_count": null,
   "id": "acb71682",
   "metadata": {
    "pycharm": {
     "name": "#%%\n"
    }
   },
   "outputs": [],
   "source": [
    "fab_model = FABModel(flow=flow,\n",
    "                     target_distribution=target,\n",
    "                     n_intermediate_distributions=n_intermediate_distributions,\n",
    "                     transition_operator=transition_operator,\n",
    "                    loss_type=loss_type)\n",
    "optimizer = torch.optim.Adam(flow.parameters(), lr=lr)\n",
    "# scheduler = torch.optim.lr_scheduler.ExponentialLR(optimizer, gamma=0.995)\n",
    "scheduler = None\n",
    "logger = ListLogger(save=False) # save training history"
   ]
  },
  {
   "cell_type": "code",
   "execution_count": null,
   "id": "6e146407",
   "metadata": {
    "pycharm": {
     "name": "#%%\n"
    }
   },
   "outputs": [],
   "source": [
    "def plot(fab_model, n_samples = 300):\n",
    "    fig, axs = plt.subplots(1, 2)\n",
    "\n",
    "    plot_contours(target.log_prob, bounds=plotting_bounds, ax=axs[0])\n",
    "    plot_contours(target.log_prob, bounds=plotting_bounds, ax=axs[1])\n",
    "\n",
    "    # plot flow samples\n",
    "    samples_flow = fab_model.flow.sample((n_samples,))\n",
    "    plot_marginal_pair(samples_flow, ax=axs[0], bounds=plotting_bounds)\n",
    "\n",
    "\n",
    "    # plot ais samples\n",
    "    samples_ais = fab_model.annealed_importance_sampler.sample_and_log_weights(n_samples,\n",
    "                                                                               logging=False)[0]\n",
    "    plot_marginal_pair(samples_ais, ax=axs[1], bounds=plotting_bounds)\n",
    "    axs[0].set_title(\"flow samples\")\n",
    "    axs[1].set_title(\"ais samples\")\n",
    "    plt.show()"
   ]
  },
  {
   "cell_type": "code",
   "execution_count": null,
   "id": "873b314d",
   "metadata": {
    "pycharm": {
     "is_executing": true,
     "name": "#%%\n"
    }
   },
   "outputs": [],
   "source": [
    "# buffer\n",
    "def initial_sampler():\n",
    "    x, log_w = fab_model.annealed_importance_sampler.sample_and_log_weights(\n",
    "            batch_size, logging=False)\n",
    "    log_q_x = fab_model.flow.log_prob(x)\n",
    "    return x, log_w, log_q_x\n",
    "buffer = PrioritisedReplayBuffer(dim=dim, max_length=maximum_buffer_length,\n",
    "                      min_sample_length=min_buffer_length,\n",
    "                      initial_sampler=initial_sampler)"
   ]
  },
  {
   "cell_type": "code",
   "execution_count": null,
   "id": "f55bd6b3",
   "metadata": {
    "pycharm": {
     "name": "#%%\n"
    }
   },
   "outputs": [],
   "source": [
    "trainer = PrioritisedBufferTrainer(model=fab_model, optimizer=optimizer, logger=logger, plot=plot,\n",
    "                  optim_schedular=scheduler,\n",
    "                        buffer=buffer,\n",
    "                        n_batches_buffer_sampling=n_batches_buffer_sampling)"
   ]
  },
  {
   "cell_type": "code",
   "execution_count": null,
   "id": "bdd0f675",
   "metadata": {
    "pycharm": {
     "name": "#%%\n"
    }
   },
   "outputs": [],
   "source": [
    "plot(fab_model)"
   ]
  },
  {
   "cell_type": "markdown",
   "id": "f413976d",
   "metadata": {
    "pycharm": {
     "name": "#%% md\n"
    }
   },
   "source": [
    "# Run with visualisation"
   ]
  },
  {
   "cell_type": "code",
   "execution_count": null,
   "id": "568dbc18",
   "metadata": {
    "pycharm": {
     "name": "#%%\n"
    },
    "scrolled": true
   },
   "outputs": [],
   "source": [
    "trainer.run(n_iterations=n_iterations, batch_size=batch_size, n_plot=n_plots, \\\n",
    "            n_eval=n_eval, eval_batch_size=eval_batch_size, save=False)"
   ]
  },
  {
   "cell_type": "markdown",
   "id": "ad8decdb",
   "metadata": {
    "pycharm": {
     "name": "#%% md\n"
    }
   },
   "source": [
    "In the below plot:\n",
    "ess = effective sample size\n",
    "\"Distance\" refers to the distance moved during each intermediate transition. "
   ]
  },
  {
   "cell_type": "code",
   "execution_count": null,
   "id": "7aafa1ec",
   "metadata": {
    "pycharm": {
     "name": "#%%\n"
    }
   },
   "outputs": [],
   "source": [
    "plot_history(logger.history)"
   ]
  },
  {
   "cell_type": "code",
   "execution_count": null,
   "id": "d48ad544",
   "metadata": {
    "pycharm": {
     "name": "#%%\n"
    }
   },
   "outputs": [],
   "source": [
    "plt.plot(logger.history[\"eval_ess_ais_p_target\"])\n",
    "plt.plot(logger.history[\"eval_ess_ais_p2overq_target\"])"
   ]
  },
  {
   "cell_type": "code",
   "execution_count": null,
   "id": "321e315f",
   "metadata": {
    "pycharm": {
     "name": "#%%\n"
    }
   },
   "outputs": [],
   "source": [
    "plt.plot(logger.history[\"w_adjust_max\"])\n",
    "plt.ylim([0, 10.0])"
   ]
  },
  {
   "cell_type": "code",
   "execution_count": null,
   "id": "57470273",
   "metadata": {
    "pycharm": {
     "name": "#%%\n"
    }
   },
   "outputs": [],
   "source": [
    "plt.plot(logger.history[\"w_adjust_mean\"])\n",
    "plt.ylim([0, 2.0])"
   ]
  },
  {
   "cell_type": "code",
   "execution_count": null,
   "id": "7eac8083",
   "metadata": {
    "pycharm": {
     "name": "#%%\n"
    }
   },
   "outputs": [],
   "source": [
    "history_with_priority = logger.history"
   ]
  },
  {
   "cell_type": "markdown",
   "id": "e52a532b",
   "metadata": {
    "pycharm": {
     "name": "#%% md\n"
    }
   },
   "source": [
    "## With normal buffer and current fab loss"
   ]
  },
  {
   "cell_type": "code",
   "execution_count": null,
   "id": "46335567",
   "metadata": {
    "pycharm": {
     "name": "#%%\n"
    }
   },
   "outputs": [],
   "source": [
    "from fab.utils.replay_buffer import ReplayBuffer\n",
    "from fab import BufferTrainer"
   ]
  },
  {
   "cell_type": "code",
   "execution_count": null,
   "id": "1820a2a8",
   "metadata": {
    "pycharm": {
     "name": "#%%\n"
    }
   },
   "outputs": [],
   "source": [
    "loss_type = \"alpha_2_div\" # \"forward_kl\" or \"alpha_2_div\""
   ]
  },
  {
   "cell_type": "code",
   "execution_count": null,
   "id": "d08daf2f",
   "metadata": {
    "pycharm": {
     "name": "#%%\n"
    }
   },
   "outputs": [],
   "source": [
    "# setup\n",
    "flow = make_wrapped_normflowdist(dim, n_flow_layers=n_flow_layers, layer_nodes_per_dim=layer_nodes_per_dim,\n",
    "                                act_norm = True)\n",
    "\n",
    "if transition_operator_type == \"hmc\":\n",
    "    # very lightweight HMC.\n",
    "    transition_operator = HamiltoneanMonteCarlo(\n",
    "        n_ais_intermediate_distributions=n_intermediate_distributions,\n",
    "        n_outer=1,\n",
    "        epsilon=1.0, L=2, dim=dim,\n",
    "        step_tuning_method=\"p_accept\")\n",
    "elif transition_operator_type == \"metropolis\":\n",
    "    transition_operator = Metropolis(n_transitions=n_intermediate_distributions,\n",
    "                                     n_updates=5, adjust_step_size=True)\n",
    "else:\n",
    "    raise NotImplementedError\n",
    "    \n",
    "\n",
    "fab_model = FABModel(flow=flow,\n",
    "                 target_distribution=target,\n",
    "                 n_intermediate_distributions=n_intermediate_distributions,\n",
    "                 transition_operator=transition_operator, loss_type=loss_type)\n",
    "optimizer = torch.optim.Adam(flow.parameters(), lr=lr)\n",
    "# scheduler = torch.optim.lr_scheduler.ExponentialLR(optimizer, gamma=0.995)\n",
    "scheduler = None\n",
    "logger = ListLogger(save=False) # save training history\n",
    "\n",
    "\n",
    "# buffer\n",
    "def initial_sampler():\n",
    "    x, log_w = fab_model.annealed_importance_sampler.sample_and_log_weights(\n",
    "            batch_size, logging=False)\n",
    "    return x, log_w\n",
    "buffer = ReplayBuffer(dim=dim, max_length=maximum_buffer_length,\n",
    "                      min_sample_length=min_buffer_length,\n",
    "                      initial_sampler=initial_sampler)\n",
    "\n",
    "\n",
    "trainer = BufferTrainer(model=fab_model, optimizer=optimizer, logger=logger, plot=plot,\n",
    "                  optim_schedular=scheduler,\n",
    "                        buffer=buffer,\n",
    "                        n_batches_buffer_sampling=n_batches_buffer_sampling,\n",
    "                        clip_ais_weights_frac=log_w_clip_frac)"
   ]
  },
  {
   "cell_type": "code",
   "execution_count": null,
   "id": "55ac006a",
   "metadata": {
    "pycharm": {
     "name": "#%%\n"
    }
   },
   "outputs": [],
   "source": [
    "# run\n",
    "trainer.run(n_iterations=n_iterations, batch_size=batch_size, n_plot=n_plots, \\\n",
    "            n_eval=n_eval, eval_batch_size=eval_batch_size, save=False)"
   ]
  },
  {
   "cell_type": "code",
   "execution_count": null,
   "id": "9b3e90a5",
   "metadata": {
    "pycharm": {
     "name": "#%%\n"
    }
   },
   "outputs": [],
   "source": [
    "plot_history(logger.history)"
   ]
  },
  {
   "cell_type": "code",
   "execution_count": null,
   "id": "fd6452aa",
   "metadata": {
    "pycharm": {
     "name": "#%%\n"
    }
   },
   "outputs": [],
   "source": [
    "# flow vs ais\n",
    "plt.plot(logger.history[\"eval_ess_flow\"], label=\"flow\")\n",
    "plt.plot(logger.history[\"eval_ess_ais\"], label=\"ais\")\n",
    "plt.legend()"
   ]
  },
  {
   "cell_type": "code",
   "execution_count": null,
   "id": "cc8fef33",
   "metadata": {
    "pycharm": {
     "name": "#%%\n"
    }
   },
   "outputs": [],
   "source": [
    "# p^2/q vs fab, after ais\n",
    "plt.plot(history_with_priority[\"eval_ess_ais_p_target\"], label=\"p^2/q\")\n",
    "plt.plot(logger.history[\"eval_ess_ais\"], label=\"current fab\")\n",
    "plt.legend()"
   ]
  },
  {
   "cell_type": "code",
   "execution_count": null,
   "id": "36f5acc1",
   "metadata": {
    "pycharm": {
     "name": "#%%\n"
    }
   },
   "outputs": [],
   "source": [
    "# p^2/q vs fab, for flow\n",
    "plt.plot(history_with_priority[\"eval_ess_flow_p_target\"], label=\"p^2/q\")\n",
    "plt.plot(logger.history[\"eval_ess_flow\"], label=\"current fab\")\n",
    "plt.legend()"
   ]
  },
  {
   "cell_type": "code",
   "execution_count": null,
   "id": "bee24086",
   "metadata": {
    "pycharm": {
     "name": "#%%\n"
    }
   },
   "outputs": [],
   "source": []
  }
 ],
 "metadata": {
  "kernelspec": {
   "display_name": "Python 3 (ipykernel)",
   "language": "python",
   "name": "python3"
  },
  "language_info": {
   "codemirror_mode": {
    "name": "ipython",
    "version": 3
   },
   "file_extension": ".py",
   "mimetype": "text/x-python",
   "name": "python",
   "nbconvert_exporter": "python",
   "pygments_lexer": "ipython3",
   "version": "3.7.13"
  }
 },
 "nbformat": 4,
 "nbformat_minor": 5
}
